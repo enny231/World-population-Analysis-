{
 "cells": [
  {
   "cell_type": "code",
   "execution_count": 1,
   "id": "86e2d049",
   "metadata": {},
   "outputs": [],
   "source": [
    "import numpy as np\n",
    "import pandas as pd \n",
    "import matplotlib.pyplot as plt\n",
    "import seaborn as sns\n",
    "import requests\n",
    "%matplotlib inline"
   ]
  },
  {
   "cell_type": "code",
   "execution_count": 2,
   "id": "921db949",
   "metadata": {},
   "outputs": [
    {
     "data": {
      "text/html": [
       "<div>\n",
       "<style scoped>\n",
       "    .dataframe tbody tr th:only-of-type {\n",
       "        vertical-align: middle;\n",
       "    }\n",
       "\n",
       "    .dataframe tbody tr th {\n",
       "        vertical-align: top;\n",
       "    }\n",
       "\n",
       "    .dataframe thead th {\n",
       "        text-align: right;\n",
       "    }\n",
       "</style>\n",
       "<table border=\"1\" class=\"dataframe\">\n",
       "  <thead>\n",
       "    <tr style=\"text-align: right;\">\n",
       "      <th></th>\n",
       "      <th>City</th>\n",
       "      <th>Country</th>\n",
       "      <th>Continent</th>\n",
       "      <th>Population (2024)</th>\n",
       "      <th>Population (2023)</th>\n",
       "      <th>Growth Rate</th>\n",
       "    </tr>\n",
       "  </thead>\n",
       "  <tbody>\n",
       "    <tr>\n",
       "      <th>0</th>\n",
       "      <td>Tokyo</td>\n",
       "      <td>Japan</td>\n",
       "      <td>Asia</td>\n",
       "      <td>37115035</td>\n",
       "      <td>37194105</td>\n",
       "      <td>-0.0021</td>\n",
       "    </tr>\n",
       "    <tr>\n",
       "      <th>1</th>\n",
       "      <td>Delhi</td>\n",
       "      <td>India</td>\n",
       "      <td>Asia</td>\n",
       "      <td>33807403</td>\n",
       "      <td>32941309</td>\n",
       "      <td>0.0263</td>\n",
       "    </tr>\n",
       "    <tr>\n",
       "      <th>2</th>\n",
       "      <td>Shanghai</td>\n",
       "      <td>China</td>\n",
       "      <td>Asia</td>\n",
       "      <td>29867918</td>\n",
       "      <td>29210808</td>\n",
       "      <td>0.0225</td>\n",
       "    </tr>\n",
       "    <tr>\n",
       "      <th>3</th>\n",
       "      <td>Dhaka</td>\n",
       "      <td>Bangladesh</td>\n",
       "      <td>Asia</td>\n",
       "      <td>23935652</td>\n",
       "      <td>23209616</td>\n",
       "      <td>0.0313</td>\n",
       "    </tr>\n",
       "    <tr>\n",
       "      <th>4</th>\n",
       "      <td>Sao Paulo</td>\n",
       "      <td>Brazil</td>\n",
       "      <td>South America</td>\n",
       "      <td>22806704</td>\n",
       "      <td>22619736</td>\n",
       "      <td>0.0083</td>\n",
       "    </tr>\n",
       "    <tr>\n",
       "      <th>...</th>\n",
       "      <td>...</td>\n",
       "      <td>...</td>\n",
       "      <td>...</td>\n",
       "      <td>...</td>\n",
       "      <td>...</td>\n",
       "      <td>...</td>\n",
       "    </tr>\n",
       "    <tr>\n",
       "      <th>796</th>\n",
       "      <td>Bhavnagar</td>\n",
       "      <td>India</td>\n",
       "      <td>Asia</td>\n",
       "      <td>751493</td>\n",
       "      <td>737128</td>\n",
       "      <td>0.0195</td>\n",
       "    </tr>\n",
       "    <tr>\n",
       "      <th>797</th>\n",
       "      <td>Sheffield</td>\n",
       "      <td>United Kingdom</td>\n",
       "      <td>Europe</td>\n",
       "      <td>751303</td>\n",
       "      <td>745876</td>\n",
       "      <td>0.0073</td>\n",
       "    </tr>\n",
       "    <tr>\n",
       "      <th>798</th>\n",
       "      <td>Huambo</td>\n",
       "      <td>Angola</td>\n",
       "      <td>Africa</td>\n",
       "      <td>751297</td>\n",
       "      <td>727641</td>\n",
       "      <td>0.0325</td>\n",
       "    </tr>\n",
       "    <tr>\n",
       "      <th>799</th>\n",
       "      <td>Ribeirao Preto</td>\n",
       "      <td>Brazil</td>\n",
       "      <td>South America</td>\n",
       "      <td>750174</td>\n",
       "      <td>742115</td>\n",
       "      <td>0.0109</td>\n",
       "    </tr>\n",
       "    <tr>\n",
       "      <th>800</th>\n",
       "      <td>Panzhihua</td>\n",
       "      <td>China</td>\n",
       "      <td>Asia</td>\n",
       "      <td>750036</td>\n",
       "      <td>738495</td>\n",
       "      <td>0.0156</td>\n",
       "    </tr>\n",
       "  </tbody>\n",
       "</table>\n",
       "<p>801 rows × 6 columns</p>\n",
       "</div>"
      ],
      "text/plain": [
       "               City         Country      Continent  Population (2024)  \\\n",
       "0             Tokyo           Japan           Asia           37115035   \n",
       "1             Delhi           India           Asia           33807403   \n",
       "2          Shanghai           China           Asia           29867918   \n",
       "3             Dhaka      Bangladesh           Asia           23935652   \n",
       "4         Sao Paulo          Brazil  South America           22806704   \n",
       "..              ...             ...            ...                ...   \n",
       "796       Bhavnagar           India           Asia             751493   \n",
       "797       Sheffield  United Kingdom         Europe             751303   \n",
       "798          Huambo          Angola         Africa             751297   \n",
       "799  Ribeirao Preto          Brazil  South America             750174   \n",
       "800       Panzhihua           China           Asia             750036   \n",
       "\n",
       "     Population (2023)  Growth Rate  \n",
       "0             37194105      -0.0021  \n",
       "1             32941309       0.0263  \n",
       "2             29210808       0.0225  \n",
       "3             23209616       0.0313  \n",
       "4             22619736       0.0083  \n",
       "..                 ...          ...  \n",
       "796             737128       0.0195  \n",
       "797             745876       0.0073  \n",
       "798             727641       0.0325  \n",
       "799             742115       0.0109  \n",
       "800             738495       0.0156  \n",
       "\n",
       "[801 rows x 6 columns]"
      ]
     },
     "execution_count": 2,
     "metadata": {},
     "output_type": "execute_result"
    }
   ],
   "source": [
    "df=pd.read_csv(r'C:\\Users\\Eniola\\Downloads\\archive (11)\\Wprld population growth rate by cities 2024.csv')\n",
    "pd.set_option('display.max_columns',None)\n",
    "df"
   ]
  },
  {
   "cell_type": "code",
   "execution_count": 3,
   "id": "d0729102",
   "metadata": {},
   "outputs": [
    {
     "data": {
      "text/plain": [
       "(801, 6)"
      ]
     },
     "execution_count": 3,
     "metadata": {},
     "output_type": "execute_result"
    }
   ],
   "source": [
    "df.shape"
   ]
  },
  {
   "cell_type": "code",
   "execution_count": 4,
   "id": "9705cd81",
   "metadata": {},
   "outputs": [
    {
     "name": "stdout",
     "output_type": "stream",
     "text": [
      "<class 'pandas.core.frame.DataFrame'>\n",
      "RangeIndex: 801 entries, 0 to 800\n",
      "Data columns (total 6 columns):\n",
      " #   Column             Non-Null Count  Dtype  \n",
      "---  ------             --------------  -----  \n",
      " 0   City               801 non-null    object \n",
      " 1   Country            801 non-null    object \n",
      " 2   Continent          790 non-null    object \n",
      " 3   Population (2024)  801 non-null    int64  \n",
      " 4   Population (2023)  801 non-null    int64  \n",
      " 5   Growth Rate        801 non-null    float64\n",
      "dtypes: float64(1), int64(2), object(3)\n",
      "memory usage: 37.7+ KB\n"
     ]
    }
   ],
   "source": [
    "df.info()"
   ]
  },
  {
   "cell_type": "code",
   "execution_count": 5,
   "id": "621bace5",
   "metadata": {},
   "outputs": [
    {
     "data": {
      "text/html": [
       "<div>\n",
       "<style scoped>\n",
       "    .dataframe tbody tr th:only-of-type {\n",
       "        vertical-align: middle;\n",
       "    }\n",
       "\n",
       "    .dataframe tbody tr th {\n",
       "        vertical-align: top;\n",
       "    }\n",
       "\n",
       "    .dataframe thead th {\n",
       "        text-align: right;\n",
       "    }\n",
       "</style>\n",
       "<table border=\"1\" class=\"dataframe\">\n",
       "  <thead>\n",
       "    <tr style=\"text-align: right;\">\n",
       "      <th></th>\n",
       "      <th>Population (2024)</th>\n",
       "      <th>Population (2023)</th>\n",
       "      <th>Growth Rate</th>\n",
       "    </tr>\n",
       "  </thead>\n",
       "  <tbody>\n",
       "    <tr>\n",
       "      <th>count</th>\n",
       "      <td>8.010000e+02</td>\n",
       "      <td>8.010000e+02</td>\n",
       "      <td>801.000000</td>\n",
       "    </tr>\n",
       "    <tr>\n",
       "      <th>mean</th>\n",
       "      <td>2.654327e+06</td>\n",
       "      <td>2.604461e+06</td>\n",
       "      <td>0.020051</td>\n",
       "    </tr>\n",
       "    <tr>\n",
       "      <th>std</th>\n",
       "      <td>3.723253e+06</td>\n",
       "      <td>3.661201e+06</td>\n",
       "      <td>0.012180</td>\n",
       "    </tr>\n",
       "    <tr>\n",
       "      <th>min</th>\n",
       "      <td>7.500360e+05</td>\n",
       "      <td>7.228360e+05</td>\n",
       "      <td>-0.024900</td>\n",
       "    </tr>\n",
       "    <tr>\n",
       "      <th>25%</th>\n",
       "      <td>9.909310e+05</td>\n",
       "      <td>9.698040e+05</td>\n",
       "      <td>0.012200</td>\n",
       "    </tr>\n",
       "    <tr>\n",
       "      <th>50%</th>\n",
       "      <td>1.379368e+06</td>\n",
       "      <td>1.363510e+06</td>\n",
       "      <td>0.019700</td>\n",
       "    </tr>\n",
       "    <tr>\n",
       "      <th>75%</th>\n",
       "      <td>2.570980e+06</td>\n",
       "      <td>2.514077e+06</td>\n",
       "      <td>0.026600</td>\n",
       "    </tr>\n",
       "    <tr>\n",
       "      <th>max</th>\n",
       "      <td>3.711504e+07</td>\n",
       "      <td>3.719410e+07</td>\n",
       "      <td>0.058200</td>\n",
       "    </tr>\n",
       "  </tbody>\n",
       "</table>\n",
       "</div>"
      ],
      "text/plain": [
       "       Population (2024)  Population (2023)  Growth Rate\n",
       "count       8.010000e+02       8.010000e+02   801.000000\n",
       "mean        2.654327e+06       2.604461e+06     0.020051\n",
       "std         3.723253e+06       3.661201e+06     0.012180\n",
       "min         7.500360e+05       7.228360e+05    -0.024900\n",
       "25%         9.909310e+05       9.698040e+05     0.012200\n",
       "50%         1.379368e+06       1.363510e+06     0.019700\n",
       "75%         2.570980e+06       2.514077e+06     0.026600\n",
       "max         3.711504e+07       3.719410e+07     0.058200"
      ]
     },
     "execution_count": 5,
     "metadata": {},
     "output_type": "execute_result"
    }
   ],
   "source": [
    "# Get descriptive statistics\n",
    "df.describe()"
   ]
  },
  {
   "cell_type": "code",
   "execution_count": 6,
   "id": "92358ed6",
   "metadata": {},
   "outputs": [
    {
     "data": {
      "text/plain": [
       "City                  0\n",
       "Country               0\n",
       "Continent            11\n",
       "Population (2024)     0\n",
       "Population (2023)     0\n",
       "Growth Rate           0\n",
       "dtype: int64"
      ]
     },
     "execution_count": 6,
     "metadata": {},
     "output_type": "execute_result"
    }
   ],
   "source": [
    "# Check for missing values\n",
    "df.isnull().sum()"
   ]
  },
  {
   "cell_type": "code",
   "execution_count": 7,
   "id": "7e30b4e6",
   "metadata": {},
   "outputs": [
    {
     "data": {
      "text/html": [
       "<div>\n",
       "<style scoped>\n",
       "    .dataframe tbody tr th:only-of-type {\n",
       "        vertical-align: middle;\n",
       "    }\n",
       "\n",
       "    .dataframe tbody tr th {\n",
       "        vertical-align: top;\n",
       "    }\n",
       "\n",
       "    .dataframe thead th {\n",
       "        text-align: right;\n",
       "    }\n",
       "</style>\n",
       "<table border=\"1\" class=\"dataframe\">\n",
       "  <thead>\n",
       "    <tr style=\"text-align: right;\">\n",
       "      <th></th>\n",
       "      <th>City</th>\n",
       "      <th>Country</th>\n",
       "      <th>Continent</th>\n",
       "      <th>Population (2024)</th>\n",
       "      <th>Population (2023)</th>\n",
       "      <th>Growth Rate</th>\n",
       "    </tr>\n",
       "  </thead>\n",
       "  <tbody>\n",
       "    <tr>\n",
       "      <th>133</th>\n",
       "      <td>Santo Domingo</td>\n",
       "      <td>Dominican Republic</td>\n",
       "      <td>NaN</td>\n",
       "      <td>3587402</td>\n",
       "      <td>3523890</td>\n",
       "      <td>0.0180</td>\n",
       "    </tr>\n",
       "    <tr>\n",
       "      <th>146</th>\n",
       "      <td>Ouagadougou</td>\n",
       "      <td>Burkina Faso</td>\n",
       "      <td>NaN</td>\n",
       "      <td>3358934</td>\n",
       "      <td>3203923</td>\n",
       "      <td>0.0484</td>\n",
       "    </tr>\n",
       "    <tr>\n",
       "      <th>184</th>\n",
       "      <td>Manchester</td>\n",
       "      <td>United Kingdom</td>\n",
       "      <td>NaN</td>\n",
       "      <td>2811756</td>\n",
       "      <td>2791005</td>\n",
       "      <td>0.0074</td>\n",
       "    </tr>\n",
       "    <tr>\n",
       "      <th>187</th>\n",
       "      <td>Brazzaville</td>\n",
       "      <td>Republic of the Congo</td>\n",
       "      <td>NaN</td>\n",
       "      <td>2724566</td>\n",
       "      <td>2637733</td>\n",
       "      <td>0.0329</td>\n",
       "    </tr>\n",
       "    <tr>\n",
       "      <th>313</th>\n",
       "      <td>Glasgow</td>\n",
       "      <td>United Kingdom</td>\n",
       "      <td>NaN</td>\n",
       "      <td>1708147</td>\n",
       "      <td>1698088</td>\n",
       "      <td>0.0059</td>\n",
       "    </tr>\n",
       "    <tr>\n",
       "      <th>400</th>\n",
       "      <td>Pointe Noire</td>\n",
       "      <td>Republic of the Congo</td>\n",
       "      <td>NaN</td>\n",
       "      <td>1379368</td>\n",
       "      <td>1336387</td>\n",
       "      <td>0.0322</td>\n",
       "    </tr>\n",
       "    <tr>\n",
       "      <th>424</th>\n",
       "      <td>Prague</td>\n",
       "      <td>Czech Republic</td>\n",
       "      <td>NaN</td>\n",
       "      <td>1327947</td>\n",
       "      <td>1323339</td>\n",
       "      <td>0.0035</td>\n",
       "    </tr>\n",
       "    <tr>\n",
       "      <th>604</th>\n",
       "      <td>Bangui</td>\n",
       "      <td>Central African Republic</td>\n",
       "      <td>NaN</td>\n",
       "      <td>985965</td>\n",
       "      <td>958335</td>\n",
       "      <td>0.0288</td>\n",
       "    </tr>\n",
       "    <tr>\n",
       "      <th>628</th>\n",
       "      <td>Southampton</td>\n",
       "      <td>United Kingdom</td>\n",
       "      <td>NaN</td>\n",
       "      <td>959202</td>\n",
       "      <td>951531</td>\n",
       "      <td>0.0081</td>\n",
       "    </tr>\n",
       "    <tr>\n",
       "      <th>718</th>\n",
       "      <td>Newcastle Upon Tyne</td>\n",
       "      <td>United Kingdom</td>\n",
       "      <td>NaN</td>\n",
       "      <td>828712</td>\n",
       "      <td>823431</td>\n",
       "      <td>0.0064</td>\n",
       "    </tr>\n",
       "    <tr>\n",
       "      <th>736</th>\n",
       "      <td>Nottingham</td>\n",
       "      <td>United Kingdom</td>\n",
       "      <td>NaN</td>\n",
       "      <td>813078</td>\n",
       "      <td>806757</td>\n",
       "      <td>0.0078</td>\n",
       "    </tr>\n",
       "  </tbody>\n",
       "</table>\n",
       "</div>"
      ],
      "text/plain": [
       "                    City                   Country Continent  \\\n",
       "133        Santo Domingo        Dominican Republic       NaN   \n",
       "146          Ouagadougou              Burkina Faso       NaN   \n",
       "184           Manchester            United Kingdom       NaN   \n",
       "187          Brazzaville     Republic of the Congo       NaN   \n",
       "313              Glasgow            United Kingdom       NaN   \n",
       "400         Pointe Noire     Republic of the Congo       NaN   \n",
       "424               Prague            Czech Republic       NaN   \n",
       "604               Bangui  Central African Republic       NaN   \n",
       "628          Southampton            United Kingdom       NaN   \n",
       "718  Newcastle Upon Tyne            United Kingdom       NaN   \n",
       "736           Nottingham            United Kingdom       NaN   \n",
       "\n",
       "     Population (2024)  Population (2023)  Growth Rate  \n",
       "133            3587402            3523890       0.0180  \n",
       "146            3358934            3203923       0.0484  \n",
       "184            2811756            2791005       0.0074  \n",
       "187            2724566            2637733       0.0329  \n",
       "313            1708147            1698088       0.0059  \n",
       "400            1379368            1336387       0.0322  \n",
       "424            1327947            1323339       0.0035  \n",
       "604             985965             958335       0.0288  \n",
       "628             959202             951531       0.0081  \n",
       "718             828712             823431       0.0064  \n",
       "736             813078             806757       0.0078  "
      ]
     },
     "execution_count": 7,
     "metadata": {},
     "output_type": "execute_result"
    }
   ],
   "source": [
    "#lets check out what values are missing and decide how to clean.\n",
    "df.loc[df.Continent.isnull()]"
   ]
  },
  {
   "cell_type": "markdown",
   "id": "35749afc",
   "metadata": {},
   "source": [
    "## Instead of dropping the null values we can fill with their respective continents Using the REST Countries API to get country and continent information and then Combine the primary dataset with the fetched data to fill in the missing continent information.\n",
    "\n"
   ]
  },
  {
   "cell_type": "code",
   "execution_count": 8,
   "id": "cf00cc9f",
   "metadata": {},
   "outputs": [
    {
     "data": {
      "text/html": [
       "<div>\n",
       "<style scoped>\n",
       "    .dataframe tbody tr th:only-of-type {\n",
       "        vertical-align: middle;\n",
       "    }\n",
       "\n",
       "    .dataframe tbody tr th {\n",
       "        vertical-align: top;\n",
       "    }\n",
       "\n",
       "    .dataframe thead th {\n",
       "        text-align: right;\n",
       "    }\n",
       "</style>\n",
       "<table border=\"1\" class=\"dataframe\">\n",
       "  <thead>\n",
       "    <tr style=\"text-align: right;\">\n",
       "      <th></th>\n",
       "      <th>City</th>\n",
       "      <th>Country</th>\n",
       "      <th>Continent_x</th>\n",
       "      <th>Population (2024)</th>\n",
       "      <th>Population (2023)</th>\n",
       "      <th>Growth Rate</th>\n",
       "      <th>Continent_y</th>\n",
       "    </tr>\n",
       "  </thead>\n",
       "  <tbody>\n",
       "    <tr>\n",
       "      <th>0</th>\n",
       "      <td>Tokyo</td>\n",
       "      <td>Japan</td>\n",
       "      <td>Asia</td>\n",
       "      <td>37115035</td>\n",
       "      <td>37194105</td>\n",
       "      <td>-0.0021</td>\n",
       "      <td>Asia</td>\n",
       "    </tr>\n",
       "    <tr>\n",
       "      <th>1</th>\n",
       "      <td>Delhi</td>\n",
       "      <td>India</td>\n",
       "      <td>Asia</td>\n",
       "      <td>33807403</td>\n",
       "      <td>32941309</td>\n",
       "      <td>0.0263</td>\n",
       "      <td>Asia</td>\n",
       "    </tr>\n",
       "    <tr>\n",
       "      <th>2</th>\n",
       "      <td>Shanghai</td>\n",
       "      <td>China</td>\n",
       "      <td>Asia</td>\n",
       "      <td>29867918</td>\n",
       "      <td>29210808</td>\n",
       "      <td>0.0225</td>\n",
       "      <td>Asia</td>\n",
       "    </tr>\n",
       "    <tr>\n",
       "      <th>3</th>\n",
       "      <td>Dhaka</td>\n",
       "      <td>Bangladesh</td>\n",
       "      <td>Asia</td>\n",
       "      <td>23935652</td>\n",
       "      <td>23209616</td>\n",
       "      <td>0.0313</td>\n",
       "      <td>Asia</td>\n",
       "    </tr>\n",
       "    <tr>\n",
       "      <th>4</th>\n",
       "      <td>Sao Paulo</td>\n",
       "      <td>Brazil</td>\n",
       "      <td>South America</td>\n",
       "      <td>22806704</td>\n",
       "      <td>22619736</td>\n",
       "      <td>0.0083</td>\n",
       "      <td>Americas</td>\n",
       "    </tr>\n",
       "    <tr>\n",
       "      <th>...</th>\n",
       "      <td>...</td>\n",
       "      <td>...</td>\n",
       "      <td>...</td>\n",
       "      <td>...</td>\n",
       "      <td>...</td>\n",
       "      <td>...</td>\n",
       "      <td>...</td>\n",
       "    </tr>\n",
       "    <tr>\n",
       "      <th>796</th>\n",
       "      <td>Bhavnagar</td>\n",
       "      <td>India</td>\n",
       "      <td>Asia</td>\n",
       "      <td>751493</td>\n",
       "      <td>737128</td>\n",
       "      <td>0.0195</td>\n",
       "      <td>Asia</td>\n",
       "    </tr>\n",
       "    <tr>\n",
       "      <th>797</th>\n",
       "      <td>Sheffield</td>\n",
       "      <td>United Kingdom</td>\n",
       "      <td>Europe</td>\n",
       "      <td>751303</td>\n",
       "      <td>745876</td>\n",
       "      <td>0.0073</td>\n",
       "      <td>Europe</td>\n",
       "    </tr>\n",
       "    <tr>\n",
       "      <th>798</th>\n",
       "      <td>Huambo</td>\n",
       "      <td>Angola</td>\n",
       "      <td>Africa</td>\n",
       "      <td>751297</td>\n",
       "      <td>727641</td>\n",
       "      <td>0.0325</td>\n",
       "      <td>Africa</td>\n",
       "    </tr>\n",
       "    <tr>\n",
       "      <th>799</th>\n",
       "      <td>Ribeirao Preto</td>\n",
       "      <td>Brazil</td>\n",
       "      <td>South America</td>\n",
       "      <td>750174</td>\n",
       "      <td>742115</td>\n",
       "      <td>0.0109</td>\n",
       "      <td>Americas</td>\n",
       "    </tr>\n",
       "    <tr>\n",
       "      <th>800</th>\n",
       "      <td>Panzhihua</td>\n",
       "      <td>China</td>\n",
       "      <td>Asia</td>\n",
       "      <td>750036</td>\n",
       "      <td>738495</td>\n",
       "      <td>0.0156</td>\n",
       "      <td>Asia</td>\n",
       "    </tr>\n",
       "  </tbody>\n",
       "</table>\n",
       "<p>801 rows × 7 columns</p>\n",
       "</div>"
      ],
      "text/plain": [
       "               City         Country    Continent_x  Population (2024)  \\\n",
       "0             Tokyo           Japan           Asia           37115035   \n",
       "1             Delhi           India           Asia           33807403   \n",
       "2          Shanghai           China           Asia           29867918   \n",
       "3             Dhaka      Bangladesh           Asia           23935652   \n",
       "4         Sao Paulo          Brazil  South America           22806704   \n",
       "..              ...             ...            ...                ...   \n",
       "796       Bhavnagar           India           Asia             751493   \n",
       "797       Sheffield  United Kingdom         Europe             751303   \n",
       "798          Huambo          Angola         Africa             751297   \n",
       "799  Ribeirao Preto          Brazil  South America             750174   \n",
       "800       Panzhihua           China           Asia             750036   \n",
       "\n",
       "     Population (2023)  Growth Rate Continent_y  \n",
       "0             37194105      -0.0021        Asia  \n",
       "1             32941309       0.0263        Asia  \n",
       "2             29210808       0.0225        Asia  \n",
       "3             23209616       0.0313        Asia  \n",
       "4             22619736       0.0083    Americas  \n",
       "..                 ...          ...         ...  \n",
       "796             737128       0.0195        Asia  \n",
       "797             745876       0.0073      Europe  \n",
       "798             727641       0.0325      Africa  \n",
       "799             742115       0.0109    Americas  \n",
       "800             738495       0.0156        Asia  \n",
       "\n",
       "[801 rows x 7 columns]"
      ]
     },
     "execution_count": 8,
     "metadata": {},
     "output_type": "execute_result"
    }
   ],
   "source": [
    "# Fetch country data from REST Countries API\n",
    "response = requests.get(\"https://restcountries.com/v3.1/all\")\n",
    "country_data = response.json()\n",
    "\n",
    "# Create a DataFrame from the fetched data\n",
    "countries = []\n",
    "for country in country_data:\n",
    "    countries.append({\n",
    "        'Country': country.get('name', {}).get('common', ''),\n",
    "        'Continent': country.get('region', '')\n",
    "    })\n",
    "\n",
    "country_df = pd.DataFrame(countries)\n",
    "\n",
    "\n",
    "# Merge the datasets on the Country column\n",
    "merged_data = pd.merge(df, country_df, on='Country', how='left')\n",
    "merged_data"
   ]
  },
  {
   "cell_type": "code",
   "execution_count": 9,
   "id": "d7a2260f",
   "metadata": {},
   "outputs": [
    {
     "data": {
      "text/html": [
       "<div>\n",
       "<style scoped>\n",
       "    .dataframe tbody tr th:only-of-type {\n",
       "        vertical-align: middle;\n",
       "    }\n",
       "\n",
       "    .dataframe tbody tr th {\n",
       "        vertical-align: top;\n",
       "    }\n",
       "\n",
       "    .dataframe thead th {\n",
       "        text-align: right;\n",
       "    }\n",
       "</style>\n",
       "<table border=\"1\" class=\"dataframe\">\n",
       "  <thead>\n",
       "    <tr style=\"text-align: right;\">\n",
       "      <th></th>\n",
       "      <th>City</th>\n",
       "      <th>Country</th>\n",
       "      <th>Continent_x</th>\n",
       "      <th>Population (2024)</th>\n",
       "      <th>Population (2023)</th>\n",
       "      <th>Growth Rate</th>\n",
       "      <th>Continent_y</th>\n",
       "    </tr>\n",
       "  </thead>\n",
       "  <tbody>\n",
       "    <tr>\n",
       "      <th>424</th>\n",
       "      <td>Prague</td>\n",
       "      <td>Czech Republic</td>\n",
       "      <td>NaN</td>\n",
       "      <td>1327947</td>\n",
       "      <td>1323339</td>\n",
       "      <td>0.0035</td>\n",
       "      <td>NaN</td>\n",
       "    </tr>\n",
       "  </tbody>\n",
       "</table>\n",
       "</div>"
      ],
      "text/plain": [
       "       City         Country Continent_x  Population (2024)  Population (2023)  \\\n",
       "424  Prague  Czech Republic         NaN            1327947            1323339   \n",
       "\n",
       "     Growth Rate Continent_y  \n",
       "424       0.0035         NaN  "
      ]
     },
     "execution_count": 9,
     "metadata": {},
     "output_type": "execute_result"
    }
   ],
   "source": [
    "# Replace null values in Continent_x with values from Continent_y\n",
    "merged_data['Continent_x'].fillna(merged_data['Continent_y'], inplace=True)\n",
    "merged_data.loc[merged_data.Continent_x.isnull()]\n"
   ]
  },
  {
   "cell_type": "code",
   "execution_count": 10,
   "id": "7b301339",
   "metadata": {},
   "outputs": [
    {
     "data": {
      "text/html": [
       "<div>\n",
       "<style scoped>\n",
       "    .dataframe tbody tr th:only-of-type {\n",
       "        vertical-align: middle;\n",
       "    }\n",
       "\n",
       "    .dataframe tbody tr th {\n",
       "        vertical-align: top;\n",
       "    }\n",
       "\n",
       "    .dataframe thead th {\n",
       "        text-align: right;\n",
       "    }\n",
       "</style>\n",
       "<table border=\"1\" class=\"dataframe\">\n",
       "  <thead>\n",
       "    <tr style=\"text-align: right;\">\n",
       "      <th></th>\n",
       "      <th>City</th>\n",
       "      <th>Country</th>\n",
       "      <th>Continent_x</th>\n",
       "      <th>Population (2024)</th>\n",
       "      <th>Population (2023)</th>\n",
       "      <th>Growth Rate</th>\n",
       "      <th>Continent_y</th>\n",
       "    </tr>\n",
       "  </thead>\n",
       "  <tbody>\n",
       "  </tbody>\n",
       "</table>\n",
       "</div>"
      ],
      "text/plain": [
       "Empty DataFrame\n",
       "Columns: [City, Country, Continent_x, Population (2024), Population (2023), Growth Rate, Continent_y]\n",
       "Index: []"
      ]
     },
     "execution_count": 10,
     "metadata": {},
     "output_type": "execute_result"
    }
   ],
   "source": [
    "# Fill remaining null values in Continent_x with Europe since we already know Czech republic is in Europe.\n",
    "merged_data.Continent_x.fillna('Europe',inplace=True)\n",
    "merged_data.loc[merged_data.Continent_x.isnull()]"
   ]
  },
  {
   "cell_type": "code",
   "execution_count": 11,
   "id": "663c08fa",
   "metadata": {},
   "outputs": [
    {
     "name": "stderr",
     "output_type": "stream",
     "text": [
      "C:\\Users\\ijd\\anaconda3\\lib\\site-packages\\pandas\\core\\frame.py:5039: SettingWithCopyWarning: \n",
      "A value is trying to be set on a copy of a slice from a DataFrame\n",
      "\n",
      "See the caveats in the documentation: https://pandas.pydata.org/pandas-docs/stable/user_guide/indexing.html#returning-a-view-versus-a-copy\n",
      "  return super().rename(\n"
     ]
    },
    {
     "data": {
      "text/html": [
       "<div>\n",
       "<style scoped>\n",
       "    .dataframe tbody tr th:only-of-type {\n",
       "        vertical-align: middle;\n",
       "    }\n",
       "\n",
       "    .dataframe tbody tr th {\n",
       "        vertical-align: top;\n",
       "    }\n",
       "\n",
       "    .dataframe thead th {\n",
       "        text-align: right;\n",
       "    }\n",
       "</style>\n",
       "<table border=\"1\" class=\"dataframe\">\n",
       "  <thead>\n",
       "    <tr style=\"text-align: right;\">\n",
       "      <th></th>\n",
       "      <th>City</th>\n",
       "      <th>Country</th>\n",
       "      <th>Continent</th>\n",
       "      <th>Population (2024)</th>\n",
       "      <th>Population (2023)</th>\n",
       "      <th>Growth Rate</th>\n",
       "    </tr>\n",
       "  </thead>\n",
       "  <tbody>\n",
       "    <tr>\n",
       "      <th>0</th>\n",
       "      <td>Tokyo</td>\n",
       "      <td>Japan</td>\n",
       "      <td>Asia</td>\n",
       "      <td>37115035</td>\n",
       "      <td>37194105</td>\n",
       "      <td>-0.0021</td>\n",
       "    </tr>\n",
       "    <tr>\n",
       "      <th>1</th>\n",
       "      <td>Delhi</td>\n",
       "      <td>India</td>\n",
       "      <td>Asia</td>\n",
       "      <td>33807403</td>\n",
       "      <td>32941309</td>\n",
       "      <td>0.0263</td>\n",
       "    </tr>\n",
       "    <tr>\n",
       "      <th>2</th>\n",
       "      <td>Shanghai</td>\n",
       "      <td>China</td>\n",
       "      <td>Asia</td>\n",
       "      <td>29867918</td>\n",
       "      <td>29210808</td>\n",
       "      <td>0.0225</td>\n",
       "    </tr>\n",
       "    <tr>\n",
       "      <th>3</th>\n",
       "      <td>Dhaka</td>\n",
       "      <td>Bangladesh</td>\n",
       "      <td>Asia</td>\n",
       "      <td>23935652</td>\n",
       "      <td>23209616</td>\n",
       "      <td>0.0313</td>\n",
       "    </tr>\n",
       "    <tr>\n",
       "      <th>4</th>\n",
       "      <td>Sao Paulo</td>\n",
       "      <td>Brazil</td>\n",
       "      <td>South America</td>\n",
       "      <td>22806704</td>\n",
       "      <td>22619736</td>\n",
       "      <td>0.0083</td>\n",
       "    </tr>\n",
       "    <tr>\n",
       "      <th>...</th>\n",
       "      <td>...</td>\n",
       "      <td>...</td>\n",
       "      <td>...</td>\n",
       "      <td>...</td>\n",
       "      <td>...</td>\n",
       "      <td>...</td>\n",
       "    </tr>\n",
       "    <tr>\n",
       "      <th>796</th>\n",
       "      <td>Bhavnagar</td>\n",
       "      <td>India</td>\n",
       "      <td>Asia</td>\n",
       "      <td>751493</td>\n",
       "      <td>737128</td>\n",
       "      <td>0.0195</td>\n",
       "    </tr>\n",
       "    <tr>\n",
       "      <th>797</th>\n",
       "      <td>Sheffield</td>\n",
       "      <td>United Kingdom</td>\n",
       "      <td>Europe</td>\n",
       "      <td>751303</td>\n",
       "      <td>745876</td>\n",
       "      <td>0.0073</td>\n",
       "    </tr>\n",
       "    <tr>\n",
       "      <th>798</th>\n",
       "      <td>Huambo</td>\n",
       "      <td>Angola</td>\n",
       "      <td>Africa</td>\n",
       "      <td>751297</td>\n",
       "      <td>727641</td>\n",
       "      <td>0.0325</td>\n",
       "    </tr>\n",
       "    <tr>\n",
       "      <th>799</th>\n",
       "      <td>Ribeirao Preto</td>\n",
       "      <td>Brazil</td>\n",
       "      <td>South America</td>\n",
       "      <td>750174</td>\n",
       "      <td>742115</td>\n",
       "      <td>0.0109</td>\n",
       "    </tr>\n",
       "    <tr>\n",
       "      <th>800</th>\n",
       "      <td>Panzhihua</td>\n",
       "      <td>China</td>\n",
       "      <td>Asia</td>\n",
       "      <td>750036</td>\n",
       "      <td>738495</td>\n",
       "      <td>0.0156</td>\n",
       "    </tr>\n",
       "  </tbody>\n",
       "</table>\n",
       "<p>801 rows × 6 columns</p>\n",
       "</div>"
      ],
      "text/plain": [
       "               City         Country      Continent  Population (2024)  \\\n",
       "0             Tokyo           Japan           Asia           37115035   \n",
       "1             Delhi           India           Asia           33807403   \n",
       "2          Shanghai           China           Asia           29867918   \n",
       "3             Dhaka      Bangladesh           Asia           23935652   \n",
       "4         Sao Paulo          Brazil  South America           22806704   \n",
       "..              ...             ...            ...                ...   \n",
       "796       Bhavnagar           India           Asia             751493   \n",
       "797       Sheffield  United Kingdom         Europe             751303   \n",
       "798          Huambo          Angola         Africa             751297   \n",
       "799  Ribeirao Preto          Brazil  South America             750174   \n",
       "800       Panzhihua           China           Asia             750036   \n",
       "\n",
       "     Population (2023)  Growth Rate  \n",
       "0             37194105      -0.0021  \n",
       "1             32941309       0.0263  \n",
       "2             29210808       0.0225  \n",
       "3             23209616       0.0313  \n",
       "4             22619736       0.0083  \n",
       "..                 ...          ...  \n",
       "796             737128       0.0195  \n",
       "797             745876       0.0073  \n",
       "798             727641       0.0325  \n",
       "799             742115       0.0109  \n",
       "800             738495       0.0156  \n",
       "\n",
       "[801 rows x 6 columns]"
      ]
     },
     "execution_count": 11,
     "metadata": {},
     "output_type": "execute_result"
    }
   ],
   "source": [
    "#Restore Data back to original shape dropping 'Continent_y' and  renaming Continent_x\n",
    "merged_data=merged_data[[\"City\", \"Country\", \"Continent_x\", 'Population (2024)','Population (2023)','Growth Rate']]\n",
    "merged_data.rename(columns={'Continent_x':'Continent'},inplace=True)\n",
    "df=merged_data.copy()\n",
    "df"
   ]
  },
  {
   "cell_type": "code",
   "execution_count": 12,
   "id": "1f388f9f",
   "metadata": {},
   "outputs": [
    {
     "data": {
      "text/plain": [
       "City                 0\n",
       "Country              0\n",
       "Continent            0\n",
       "Population (2024)    0\n",
       "Population (2023)    0\n",
       "Growth Rate          0\n",
       "dtype: int64"
      ]
     },
     "execution_count": 12,
     "metadata": {},
     "output_type": "execute_result"
    }
   ],
   "source": [
    "df.isnull().sum()"
   ]
  },
  {
   "cell_type": "code",
   "execution_count": 13,
   "id": "e04e1538",
   "metadata": {},
   "outputs": [
    {
     "data": {
      "text/plain": [
       "<AxesSubplot:title={'center':'Growth Rate'}, xlabel='[Country]'>"
      ]
     },
     "execution_count": 13,
     "metadata": {},
     "output_type": "execute_result"
    },
    {
     "data": {
      "image/png": "[encoded data removed]",
      "text/plain": [
       "<Figure size 720x504 with 1 Axes>"
      ]
     },
     "metadata": {
      "needs_background": "light"
     },
     "output_type": "display_data"
    }
   ],
   "source": [
    "# Boxplot for the top 10 countries by growth rate\n",
    "df.head()\n",
    "newdf=df.sort_values(by='Growth Rate', ascending=False).head(10)\n",
    "newdf[['Country','Growth Rate']].boxplot(by='Country',figsize=(10,7))"
   ]
  },
  {
   "cell_type": "code",
   "execution_count": 104,
   "id": "b2d084ce",
   "metadata": {},
   "outputs": [
    {
     "data": {
      "text/plain": [
       "<AxesSubplot:title={'center':'Growth Rate'}, xlabel='[Country]'>"
      ]
     },
     "execution_count": 104,
     "metadata": {},
     "output_type": "execute_result"
    },
    {
     "data": {
      "image/png": "[encoded data removed]",
      "text/plain": [
       "<Figure size 720x504 with 1 Axes>"
      ]
     },
     "metadata": {
      "needs_background": "light"
     },
     "output_type": "display_data"
    }
   ],
   "source": [
    "# Boxplot for the Countires with the lowest growth rate\n",
    "df.head()\n",
    "newdf=df.sort_values(by='Growth Rate', ascending=True).head(20)\n",
    "newdf[['Country','Growth Rate']].boxplot(by='Country',figsize=(10,7))"
   ]
  },
  {
   "cell_type": "code",
   "execution_count": 15,
   "id": "c2585daf",
   "metadata": {},
   "outputs": [
    {
     "data": {
      "image/png": "[encoded data removed]",
      "text/plain": [
       "<Figure size 720x288 with 2 Axes>"
      ]
     },
     "metadata": {
      "needs_background": "light"
     },
     "output_type": "display_data"
    },
    {
     "data": {
      "image/png": "[encoded data removed]",
      "text/plain": [
       "<Figure size 720x288 with 2 Axes>"
      ]
     },
     "metadata": {
      "needs_background": "light"
     },
     "output_type": "display_data"
    },
    {
     "data": {
      "image/png": "[encoded data removed]",
      "text/plain": [
       "<Figure size 720x288 with 2 Axes>"
      ]
     },
     "metadata": {
      "needs_background": "light"
     },
     "output_type": "display_data"
    }
   ],
   "source": [
    "# Histograms and Boxplots for numerical features\n",
    "numerical_feat=['Population (2024)','Population (2023)','Growth Rate']\n",
    "for feature in numerical_feat:\n",
    "    plt.figure(figsize=(10, 4))\n",
    "    plt.subplot(1, 2, 1)\n",
    "    sns.histplot(df[feature], kde=True)\n",
    "    plt.title(f'{feature} Distribution')\n",
    "    \n",
    "    plt.subplot(1, 2, 2)\n",
    "    sns.boxplot(x=df[feature])\n",
    "    plt.title(f'{feature} Boxplot')"
   ]
  },
  {
   "cell_type": "code",
   "execution_count": 16,
   "id": "c38616fe",
   "metadata": {},
   "outputs": [
    {
     "data": {
      "text/plain": [
       "<AxesSubplot:xlabel='Continent'>"
      ]
     },
     "execution_count": 16,
     "metadata": {},
     "output_type": "execute_result"
    },
    {
     "data": {
      "image/png": "[encoded data removed]",
      "text/plain": [
       "<Figure size 720x504 with 1 Axes>"
      ]
     },
     "metadata": {
      "needs_background": "light"
     },
     "output_type": "display_data"
    }
   ],
   "source": [
    "# Total population in 2024 by continent\n",
    "df.groupby('Continent')['Population (2024)'].sum().sort_values(ascending=False).head(10).plot(kind='bar',figsize=(10,7),color='y')"
   ]
  },
  {
   "cell_type": "code",
   "execution_count": 17,
   "id": "86d3916f",
   "metadata": {},
   "outputs": [
    {
     "data": {
      "text/plain": [
       "<AxesSubplot:xlabel='Country'>"
      ]
     },
     "execution_count": 17,
     "metadata": {},
     "output_type": "execute_result"
    },
    {
     "data": {
      "image/png": "[encoded data removed]",
      "text/plain": [
       "<Figure size 720x504 with 1 Axes>"
      ]
     },
     "metadata": {
      "needs_background": "light"
     },
     "output_type": "display_data"
    }
   ],
   "source": [
    "#Total population in 2023 by country\n",
    "df.groupby('Country')['Population (2023)'].sum().sort_values(ascending=False).head(10).plot(kind='bar',figsize=(10,7),color='g')"
   ]
  },
  {
   "cell_type": "code",
   "execution_count": 18,
   "id": "992185b2",
   "metadata": {},
   "outputs": [
    {
     "data": {
      "text/plain": [
       "<AxesSubplot:xlabel='Continent'>"
      ]
     },
     "execution_count": 18,
     "metadata": {},
     "output_type": "execute_result"
    },
    {
     "data": {
      "image/png": "[encoded data removed]",
      "text/plain": [
       "<Figure size 864x504 with 1 Axes>"
      ]
     },
     "metadata": {
      "needs_background": "light"
     },
     "output_type": "display_data"
    }
   ],
   "source": [
    "# Average growth rate by continent\n",
    "df.head()\n",
    "df.groupby('Continent')['Growth Rate'].mean().sort_values(ascending=False).head(10).plot(kind='line',figsize=(12,7))"
   ]
  },
  {
   "cell_type": "code",
   "execution_count": 76,
   "id": "4ee6874b",
   "metadata": {},
   "outputs": [
    {
     "data": {
      "image/png": "[encoded data removed]",
      "text/plain": [
       "<Figure size 1008x504 with 1 Axes>"
      ]
     },
     "metadata": {
      "needs_background": "light"
     },
     "output_type": "display_data"
    }
   ],
   "source": [
    "# Most populated cities in 2024\n",
    "df.head()\n",
    "df1=df[['City','Population (2024)','Continent','Population (2023)']].sort_values(by='Population (2024)',ascending=False).head(15)\n",
    "plt.figure(figsize=(14,7))\n",
    "sns.barplot( y=df1.City,x=df1['Population (2024)'],orient='h',hue=df1.Continent )\n",
    "plt.title('Most Populated Cities in 2024')\n",
    "plt.legend()\n",
    "plt.show()"
   ]
  },
  {
   "cell_type": "code",
   "execution_count": 88,
   "id": "0ba174ee",
   "metadata": {},
   "outputs": [
    {
     "data": {
      "text/plain": [
       "<AxesSubplot:xlabel='Population (2023)', ylabel='Population (2024)'>"
      ]
     },
     "execution_count": 88,
     "metadata": {},
     "output_type": "execute_result"
    },
    {
     "data": {
      "image/png": "[encoded data removed]",
      "text/plain": [
       "<Figure size 720x504 with 1 Axes>"
      ]
     },
     "metadata": {
      "needs_background": "light"
     },
     "output_type": "display_data"
    }
   ],
   "source": [
    "# Population in 2023 vs 2024\n",
    "df.head()\n",
    "plt.figure(figsize=(10,7))\n",
    "sns.scatterplot(x=df['Population (2023)'],y=df['Population (2024)'])"
   ]
  },
  {
   "cell_type": "code",
   "execution_count": 69,
   "id": "4dec4af3",
   "metadata": {},
   "outputs": [
    {
     "data": {
      "image/png": "[encoded data removed]",
      "text/plain": [
       "<Figure size 864x504 with 1 Axes>"
      ]
     },
     "metadata": {
      "needs_background": "light"
     },
     "output_type": "display_data"
    }
   ],
   "source": [
    "# Total population in 2024 and 2023 by continent\n",
    "df.head()\n",
    "df.groupby('Continent')['Population (2024)'].sum().plot(kind='bar',figsize=(12,7),color='r',label='Population (2024)')\n",
    "df.groupby('Continent')['Population (2023)'].sum().plot(kind='bar',figsize=(12,7),color='g')\n",
    "plt.legend()\n",
    "plt.show()"
   ]
  },
  {
   "cell_type": "code",
   "execution_count": 98,
   "id": "482e5407",
   "metadata": {},
   "outputs": [
    {
     "data": {
      "image/png": "[encoded data removed]",
      "text/plain": [
       "<Figure size 1296x648 with 1 Axes>"
      ]
     },
     "metadata": {
      "needs_background": "light"
     },
     "output_type": "display_data"
    }
   ],
   "source": [
    "#Growth rate by continent\n",
    "df\n",
    "plt.figure(figsize=(18,9))\n",
    "sns.boxplot(data=df, x='Continent', y='Growth Rate')\n",
    "plt.show()"
   ]
  },
  {
   "cell_type": "code",
   "execution_count": null,
   "id": "5cd7fec3",
   "metadata": {},
   "outputs": [],
   "source": []
  },
  {
   "cell_type": "code",
   "execution_count": null,
   "id": "5b68134d",
   "metadata": {},
   "outputs": [],
   "source": []
  }
 ],
 "metadata": {
  "kernelspec": {
   "display_name": "Python 3 (ipykernel)",
   "language": "python",
   "name": "python3"
  },
  "language_info": {
   "codemirror_mode": {
    "name": "ipython",
    "version": 3
   },
   "file_extension": ".py",
   "mimetype": "text/x-python",
   "name": "python",
   "nbconvert_exporter": "python",
   "pygments_lexer": "ipython3",
   "version": "3.9.7"
  }
 },
 "nbformat": 4,
 "nbformat_minor": 5
}
